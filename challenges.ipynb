{
 "cells": [
  {
   "cell_type": "markdown",
   "id": "5d315632",
   "metadata": {},
   "source": [
    "##### Given a random non-negative number, you have to return the digits of this number within an array in reverse order.\n",
    "\n",
    "Example (Input => Output):\n",
    "35231 => [1,3,2,5,3]\n",
    "0     => [0]"
   ]
  },
  {
   "cell_type": "code",
   "execution_count": 35,
   "id": "03438358",
   "metadata": {},
   "outputs": [],
   "source": [
    "# def digitize(n):\n",
    "#     if n == 0:\n",
    "#         return [0]\n",
    "#     return [int(d) for d in str(n)][::-1]"
   ]
  },
  {
   "cell_type": "code",
   "execution_count": 36,
   "id": "ad7ea0cf",
   "metadata": {},
   "outputs": [],
   "source": [
    "def digitize(n):\n",
    "    return list(map(int, reversed(str(n))))"
   ]
  },
  {
   "cell_type": "code",
   "execution_count": 31,
   "id": "fa74f4cf",
   "metadata": {},
   "outputs": [
    {
     "name": "stdout",
     "output_type": "stream",
     "text": [
      "[9, 8, 7, 6, 5, 4, 3, 2, 1]\n"
     ]
    }
   ],
   "source": [
    "list_of_digits = []\n",
    "for d in str(123456789):\n",
    "    int_digit = int(d)\n",
    "    list_of_digits.append(int_digit)\n",
    "print(list_of_digits[::-1])"
   ]
  },
  {
   "cell_type": "code",
   "execution_count": 34,
   "id": "c6da9523",
   "metadata": {},
   "outputs": [
    {
     "name": "stdout",
     "output_type": "stream",
     "text": [
      "[5, 4, 3, 2, 1]\n",
      "[0]\n",
      "[1, 2, 3, 4, 5, 6, 7, 8, 9]\n",
      "[1, 0, 0, 1]\n",
      "[2, 4]\n",
      "[7]\n",
      "[0, 9, 8, 7, 6, 5, 4, 3, 2, 1]\n",
      "[0, 0, 0, 0, 0, 0, 1]\n"
     ]
    }
   ],
   "source": [
    "# Example usage:\n",
    "if __name__ == \"__main__\":\n",
    "    print(digitize(12345))  # Output: [5, 4, 3, 2, 1]\n",
    "    print(digitize(0))      # Output: [0]\n",
    "    print(digitize(987654321))  # Output: [1, 2, 3, 4, 5, 6, 7, 8, 9]\n",
    "    print(digitize(1001))   # Output: [1, 0, 0, 1]\n",
    "    print(digitize(42))     # Output: [2, 4]\n",
    "    print(digitize(7))      # Output: [7]\n",
    "    print(digitize(1234567890))  # Output: [0, 9, 8, 7, 6, 5, 4, 3, 2, 1]\n",
    "    print(digitize(1000000))  # Output"
   ]
  },
  {
   "cell_type": "code",
   "execution_count": null,
   "id": "0a3da16f",
   "metadata": {},
   "outputs": [
    {
     "data": {
      "text/plain": [
       "25"
      ]
     },
     "execution_count": 40,
     "metadata": {},
     "output_type": "execute_result"
    }
   ],
   "source": [
    "def decompose(n):\n",
    "    num = int(n) ** 2\n",
    "    return num\n",
    "decompose(5)  # Output: 25"
   ]
  },
  {
   "cell_type": "markdown",
   "id": "4120b9b5",
   "metadata": {},
   "source": [
    "### Pattern Matching\n",
    "\n",
    "- Patrones literales: Coinciden con valores concretos\n",
    "- Patrones de secuencia: Para listas, tuplas, etc.\n",
    "- Patrones de mapeo: Para diccionarios\n",
    "- Patrones de clase: Para objetos\n",
    "- Patrones con guardias: Condiciones adicionales\n",
    "\n",
    "#### Ventajas\n",
    "\n",
    "- Código más legible para estructuras complejas\n",
    "- Alternativa elegante a cadenas de if-elif-else\n",
    "- Soporte para desestructuración de datos"
   ]
  },
  {
   "cell_type": "code",
   "execution_count": null,
   "id": "3a53aa1b",
   "metadata": {},
   "outputs": [
    {
     "name": "stdout",
     "output_type": "stream",
     "text": [
      "\n",
      "==================================================\n",
      "Un círculo verde perfecto de radio 5.0\n",
      "Círculo verde de radio 5.0. Área: 78.54\n",
      "\n",
      "==================================================\n",
      "Un cuadrado azul perfecto de lado 4.0\n",
      "Cuadrado azul de lado 4.0. Área: 16.00\n",
      "\n",
      "==================================================\n",
      "Un rectángulo amarillo de dimensiones 3.0x5.0\n",
      "Rectángulo amarillo de 3.0x5.0. Área: 15.00\n",
      "\n",
      "==================================================\n",
      "Un triángulo rojo con base 6.0 y altura 4.0\n",
      "Triángulo rojo de base 6.0. Área: 12.00\n",
      "\n",
      "==================================================\n",
      "Un círculo negro perfecto de radio 2.5\n",
      "Círculo negro de radio 2.5. Área: 19.63\n"
     ]
    }
   ],
   "source": [
    "from dataclasses import dataclass\n",
    "from math import pi\n",
    "\n",
    "@dataclass\n",
    "class Circulo:\n",
    "    radio: float\n",
    "    color: str = \"negro\"\n",
    "\n",
    "@dataclass\n",
    "class Rectangulo:\n",
    "    ancho: float\n",
    "    alto: float\n",
    "    color: str = \"azul\"\n",
    "\n",
    "@dataclass\n",
    "class Triangulo:\n",
    "    base: float\n",
    "    altura: float\n",
    "    color: str = \"rojo\"\n",
    "\n",
    "def calcular_area(figura):\n",
    "    match figura:\n",
    "        case Circulo(radio=r, color=c):\n",
    "            area = pi * r ** 2\n",
    "            print(f\"Círculo {c} de radio {r}. Área: {area:.2f}\")\n",
    "            return area\n",
    "            \n",
    "        case Rectangulo(ancho=a, alto=h, color=c) if a == h:\n",
    "            area = a * h\n",
    "            print(f\"Cuadrado {c} de lado {a}. Área: {area:.2f}\")\n",
    "            return area\n",
    "            \n",
    "        case Rectangulo(ancho=a, alto=h, color=c):\n",
    "            area = a * h\n",
    "            print(f\"Rectángulo {c} de {a}x{h}. Área: {area:.2f}\")\n",
    "            return area\n",
    "            \n",
    "        case Triangulo(base=b, altura=alt, color=c):\n",
    "            area = (b * alt) / 2\n",
    "            print(f\"Triángulo {c} de base {b}. Área: {area:.2f}\")\n",
    "            return area\n",
    "            \n",
    "        case _:\n",
    "            raise ValueError(\"Figura no reconocida\")\n",
    "\n",
    "def describir_figura(figura):\n",
    "    match figura:\n",
    "        case Circulo(radio=r, color=c):\n",
    "            return f\"Un círculo {c} perfecto de radio {r}\"\n",
    "        case Rectangulo(ancho=a, alto=h, color=c) if a == h:\n",
    "            return f\"Un cuadrado {c} perfecto de lado {a}\"\n",
    "        case Rectangulo(ancho=a, alto=h, color=c):\n",
    "            return f\"Un rectángulo {c} de dimensiones {a}x{h}\"\n",
    "        case Triangulo(base=b, altura=alt, color=c):\n",
    "            return f\"Un triángulo {c} con base {b} y altura {alt}\"\n",
    "        case _:\n",
    "            return \"Figura geométrica no identificada\"\n",
    "\n",
    "figuras = [\n",
    "    Circulo(5.0, \"verde\"),\n",
    "    Rectangulo(4.0, 4.0),\n",
    "    Rectangulo(3.0, 5.0, \"amarillo\"),\n",
    "    Triangulo(6.0, 4.0),\n",
    "    Circulo(2.5)\n",
    "]\n",
    "\n",
    "for figura in figuras:\n",
    "    print(\"\\n\" + \"=\"*50)\n",
    "    print(describir_figura(figura))\n",
    "    calcular_area(figura)"
   ]
  },
  {
   "cell_type": "code",
   "execution_count": null,
   "id": "addb148d",
   "metadata": {},
   "outputs": [
    {
     "data": {
      "application/vnd.plotly.v1+json": {
       "config": {
        "plotlyServerURL": "https://plot.ly"
       },
       "data": [
        {
         "fill": "toself",
         "fillcolor": "#1f77b4",
         "line": {
          "color": "black"
         },
         "name": "Circulo",
         "opacity": 0.6,
         "type": "scatter",
         "x": [
          3,
          2.996053456856543,
          2.984229402628956,
          2.9645745014573777,
          2.937166322257262,
          2.9021130325903073,
          2.8595529717765027,
          2.809654104932039,
          2.752613360087727,
          2.68865585100403,
          2.618033988749895,
          2.5410264855515785,
          2.457937254842823,
          2.3690942118573775,
          2.2748479794973795,
          2.1755705045849467,
          2.071653589957993,
          1.9635073482034304,
          1.8515585831301453,
          1.7362491053693563,
          1.618033988749895,
          1.4973797743297095,
          1.3747626291714494,
          1.250666467128609,
          1.125581039058627,
          1.0000000000000002,
          0.8744189609413732,
          0.7493335328713917,
          0.6252373708285508,
          0.5026202256702903,
          0.38196601125010576,
          0.2637508946306445,
          0.14844141686985457,
          0.03649265179656913,
          -0.07165358995799376,
          -0.17557050458494605,
          -0.2748479794973795,
          -0.36909421185737745,
          -0.45793725484282266,
          -0.5410264855515783,
          -0.6180339887498947,
          -0.6886558510040297,
          -0.7526133600877272,
          -0.8096541049320387,
          -0.8595529717765027,
          -0.9021130325903071,
          -0.9371663222572619,
          -0.9645745014573774,
          -0.9842294026289555,
          -0.9960534568565431,
          -1,
          -0.9960534568565431,
          -0.9842294026289558,
          -0.9645745014573772,
          -0.9371663222572624,
          -0.9021130325903073,
          -0.8595529717765029,
          -0.8096541049320394,
          -0.752613360087727,
          -0.6886558510040304,
          -0.6180339887498956,
          -0.5410264855515785,
          -0.45793725484282377,
          -0.36909421185737723,
          -0.27484797949737905,
          -0.1755705045849465,
          -0.07165358995799265,
          0.036492651796569464,
          0.14844141686985568,
          0.2637508946306444,
          0.3819660112501049,
          0.5026202256702912,
          0.6252373708285508,
          0.7493335328713908,
          0.8744189609413736,
          0.9999999999999997,
          1.1255810390586256,
          1.2506664671286085,
          1.3747626291714485,
          1.49737977432971,
          1.6180339887498945,
          1.736249105369355,
          1.8515585831301435,
          1.9635073482034313,
          2.0716535899579935,
          2.175570504584946,
          2.2748479794973786,
          2.369094211857376,
          2.4579372548428227,
          2.5410264855515785,
          2.618033988749895,
          2.6886558510040297,
          2.752613360087726,
          2.8096541049320387,
          2.8595529717765027,
          2.9021130325903073,
          2.937166322257262,
          2.9645745014573777,
          2.9842294026289555,
          2.996053456856543,
          3
         ],
         "y": [
          1,
          1.1255810390586267,
          1.2506664671286085,
          1.3747626291714492,
          1.4973797743297097,
          1.618033988749895,
          1.7362491053693558,
          1.8515585831301453,
          1.9635073482034306,
          2.071653589957993,
          2.1755705045849463,
          2.2748479794973795,
          2.3690942118573775,
          2.457937254842823,
          2.5410264855515785,
          2.618033988749895,
          2.68865585100403,
          2.7526133600877274,
          2.809654104932039,
          2.8595529717765027,
          2.9021130325903073,
          2.937166322257262,
          2.964574501457377,
          2.9842294026289555,
          2.996053456856543,
          3,
          2.996053456856543,
          2.984229402628956,
          2.9645745014573777,
          2.937166322257262,
          2.9021130325903073,
          2.8595529717765027,
          2.809654104932039,
          2.752613360087727,
          2.6886558510040297,
          2.618033988749895,
          2.5410264855515785,
          2.4579372548428227,
          2.3690942118573775,
          2.2748479794973795,
          2.1755705045849467,
          2.071653589957994,
          1.9635073482034304,
          1.8515585831301458,
          1.7362491053693563,
          1.618033988749895,
          1.4973797743297106,
          1.3747626291714492,
          1.250666467128609,
          1.1255810390586272,
          1.0000000000000002,
          0.8744189609413733,
          0.7493335328713915,
          0.6252373708285505,
          0.5026202256702909,
          0.38196601125010543,
          0.26375089463064416,
          0.14844141686985546,
          0.03649265179656924,
          -0.07165358995799287,
          -0.17557050458494539,
          -0.27484797949737927,
          -0.3690942118573768,
          -0.4579372548428233,
          -0.5410264855515787,
          -0.6180339887498947,
          -0.6886558510040306,
          -0.7526133600877272,
          -0.8096541049320396,
          -0.8595529717765029,
          -0.9021130325903071,
          -0.9371663222572624,
          -0.9645745014573774,
          -0.9842294026289555,
          -0.9960534568565431,
          -1,
          -0.9960534568565431,
          -0.9842294026289558,
          -0.9645745014573774,
          -0.9371663222572622,
          -0.9021130325903073,
          -0.8595529717765031,
          -0.8096541049320398,
          -0.7526133600877267,
          -0.6886558510040299,
          -0.6180339887498951,
          -0.5410264855515792,
          -0.45793725484282444,
          -0.3690942118573779,
          -0.27484797949737927,
          -0.17557050458494672,
          -0.0716535899579942,
          0.0364926517965678,
          0.14844141686985401,
          0.2637508946306443,
          0.38196601125010465,
          0.5026202256702893,
          0.6252373708285506,
          0.7493335328713907,
          0.8744189609413735,
          0.9999999999999996
         ]
        },
        {
         "fill": "toself",
         "fillcolor": "#ff7f0e",
         "line": {
          "color": "black"
         },
         "name": "Rectangulo",
         "opacity": 0.6,
         "type": "scatter",
         "x": [
          -3.5,
          -0.5,
          -0.5,
          -3.5,
          -3.5
         ],
         "y": [
          -1,
          -1,
          1,
          1,
          -1
         ]
        },
        {
         "fill": "toself",
         "fillcolor": "#2ca02c",
         "line": {
          "color": "black"
         },
         "name": "Triangulo",
         "opacity": 0.6,
         "type": "scatter",
         "x": [
          0,
          2,
          4,
          0
         ],
         "y": [
          -2,
          1,
          -2,
          -2
         ]
        },
        {
         "fill": "toself",
         "fillcolor": "#d62728",
         "line": {
          "color": "black"
         },
         "name": "Circulo",
         "opacity": 0.6,
         "type": "scatter",
         "x": [
          0.5,
          0.4970400926424072,
          0.48817205197171676,
          0.473430876093033,
          0.4528747416929466,
          0.42658477444273024,
          0.39466472883237724,
          0.35724057869902937,
          0.31446002006579543,
          0.2664918882530225,
          0.21352549156242118,
          0.155769864163684,
          0.09345294113211722,
          0.026820658893032867,
          -0.04386401537696538,
          -0.11832212156129018,
          -0.19625980753150518,
          -0.2773694888474273,
          -0.361331062652391,
          -0.4478131709729829,
          -0.5364745084375788,
          -0.6269651692527178,
          -0.7189280281214129,
          -0.8120001496535433,
          -0.9058142207060297,
          -0.9999999999999999,
          -1.0941857792939702,
          -1.1879998503464562,
          -1.2810719718785868,
          -1.3730348307472822,
          -1.4635254915624207,
          -1.5521868290270167,
          -1.638668937347609,
          -1.7226305111525733,
          -1.8037401924684953,
          -1.8816778784387096,
          -1.9561359846230346,
          -2.0268206588930333,
          -2.093452941132117,
          -2.155769864163684,
          -2.2135254915624207,
          -2.2664918882530225,
          -2.3144600200657957,
          -2.357240578699029,
          -2.3946647288323772,
          -2.4265847744427305,
          -2.4528747416929466,
          -2.4734308760930332,
          -2.4881720519717168,
          -2.4970400926424072,
          -2.5,
          -2.4970400926424072,
          -2.4881720519717168,
          -2.473430876093033,
          -2.4528747416929466,
          -2.4265847744427305,
          -2.3946647288323772,
          -2.3572405786990296,
          -2.314460020065795,
          -2.2664918882530225,
          -2.2135254915624216,
          -2.155769864163684,
          -2.093452941132118,
          -2.026820658893033,
          -1.9561359846230344,
          -1.8816778784387098,
          -1.8037401924684944,
          -1.7226305111525728,
          -1.6386689373476082,
          -1.5521868290270167,
          -1.4635254915624214,
          -1.3730348307472817,
          -1.281071971878587,
          -1.1879998503464568,
          -1.0941857792939698,
          -1.0000000000000002,
          -0.9058142207060308,
          -0.8120001496535436,
          -0.7189280281214137,
          -0.6269651692527176,
          -0.5364745084375792,
          -0.4478131709729839,
          -0.36133106265239223,
          -0.2773694888474264,
          -0.19625980753150485,
          -0.11832212156129063,
          -0.04386401537696605,
          0.02682065889303198,
          0.093452941132117,
          0.155769864163684,
          0.21352549156242095,
          0.26649188825302206,
          0.31446002006579477,
          0.35724057869902914,
          0.39466472883237724,
          0.42658477444273024,
          0.4528747416929464,
          0.473430876093033,
          0.48817205197171676,
          0.4970400926424072,
          0.5
         ],
         "y": [
          -2,
          -1.90581422070603,
          -1.8120001496535436,
          -1.7189280281214132,
          -1.6269651692527178,
          -1.5364745084375788,
          -1.4478131709729831,
          -1.3613310626523911,
          -1.277369488847427,
          -1.196259807531505,
          -1.1183221215612904,
          -1.0438640153769656,
          -0.9731793411069671,
          -0.9065470588678828,
          -0.844230135836316,
          -0.786474508437579,
          -0.7335081117469775,
          -0.6855399799342043,
          -0.6427594213009706,
          -0.605335271167623,
          -0.5734152255572698,
          -0.5471252583070534,
          -0.5265691239069672,
          -0.5118279480282832,
          -0.5029599073575928,
          -0.5,
          -0.5029599073575928,
          -0.5118279480282832,
          -0.526569123906967,
          -0.5471252583070534,
          -0.5734152255572695,
          -0.6053352711676228,
          -0.6427594213009709,
          -0.6855399799342048,
          -0.7335081117469775,
          -0.7864745084375788,
          -0.844230135836316,
          -0.9065470588678828,
          -0.9731793411069667,
          -1.0438640153769652,
          -1.1183221215612902,
          -1.1962598075315045,
          -1.2773694888474272,
          -1.3613310626523907,
          -1.447813170972983,
          -1.5364745084375788,
          -1.6269651692527172,
          -1.7189280281214132,
          -1.8120001496535432,
          -1.9058142207060296,
          -1.9999999999999998,
          -2.09418577929397,
          -2.1879998503464564,
          -2.2810719718785872,
          -2.3730348307472817,
          -2.4635254915624207,
          -2.5521868290270167,
          -2.6386689373476084,
          -2.7226305111525733,
          -2.803740192468495,
          -2.881677878438709,
          -2.9561359846230344,
          -3.0268206588930324,
          -3.093452941132117,
          -3.155769864163684,
          -3.2135254915624207,
          -3.266491888253023,
          -3.3144600200657957,
          -3.3572405786990296,
          -3.3946647288323772,
          -3.4265847744427305,
          -3.4528747416929466,
          -3.4734308760930332,
          -3.4881720519717168,
          -3.4970400926424072,
          -3.5,
          -3.4970400926424072,
          -3.4881720519717168,
          -3.4734308760930332,
          -3.4528747416929466,
          -3.4265847744427305,
          -3.3946647288323772,
          -3.35724057869903,
          -3.3144600200657948,
          -3.2664918882530225,
          -3.2135254915624216,
          -3.1557698641636844,
          -3.093452941132118,
          -3.0268206588930333,
          -2.9561359846230344,
          -2.88167787843871,
          -2.8037401924684957,
          -2.722630511152574,
          -2.6386689373476093,
          -2.5521868290270167,
          -2.4635254915624216,
          -2.373034830747283,
          -2.2810719718785872,
          -2.187999850346457,
          -2.0941857792939698,
          -2.0000000000000004
         ]
        }
       ],
       "layout": {
        "showlegend": true,
        "template": {
         "data": {
          "bar": [
           {
            "error_x": {
             "color": "#2a3f5f"
            },
            "error_y": {
             "color": "#2a3f5f"
            },
            "marker": {
             "line": {
              "color": "#E5ECF6",
              "width": 0.5
             },
             "pattern": {
              "fillmode": "overlay",
              "size": 10,
              "solidity": 0.2
             }
            },
            "type": "bar"
           }
          ],
          "barpolar": [
           {
            "marker": {
             "line": {
              "color": "#E5ECF6",
              "width": 0.5
             },
             "pattern": {
              "fillmode": "overlay",
              "size": 10,
              "solidity": 0.2
             }
            },
            "type": "barpolar"
           }
          ],
          "carpet": [
           {
            "aaxis": {
             "endlinecolor": "#2a3f5f",
             "gridcolor": "white",
             "linecolor": "white",
             "minorgridcolor": "white",
             "startlinecolor": "#2a3f5f"
            },
            "baxis": {
             "endlinecolor": "#2a3f5f",
             "gridcolor": "white",
             "linecolor": "white",
             "minorgridcolor": "white",
             "startlinecolor": "#2a3f5f"
            },
            "type": "carpet"
           }
          ],
          "choropleth": [
           {
            "colorbar": {
             "outlinewidth": 0,
             "ticks": ""
            },
            "type": "choropleth"
           }
          ],
          "contour": [
           {
            "colorbar": {
             "outlinewidth": 0,
             "ticks": ""
            },
            "colorscale": [
             [
              0,
              "#0d0887"
             ],
             [
              0.1111111111111111,
              "#46039f"
             ],
             [
              0.2222222222222222,
              "#7201a8"
             ],
             [
              0.3333333333333333,
              "#9c179e"
             ],
             [
              0.4444444444444444,
              "#bd3786"
             ],
             [
              0.5555555555555556,
              "#d8576b"
             ],
             [
              0.6666666666666666,
              "#ed7953"
             ],
             [
              0.7777777777777778,
              "#fb9f3a"
             ],
             [
              0.8888888888888888,
              "#fdca26"
             ],
             [
              1,
              "#f0f921"
             ]
            ],
            "type": "contour"
           }
          ],
          "contourcarpet": [
           {
            "colorbar": {
             "outlinewidth": 0,
             "ticks": ""
            },
            "type": "contourcarpet"
           }
          ],
          "heatmap": [
           {
            "colorbar": {
             "outlinewidth": 0,
             "ticks": ""
            },
            "colorscale": [
             [
              0,
              "#0d0887"
             ],
             [
              0.1111111111111111,
              "#46039f"
             ],
             [
              0.2222222222222222,
              "#7201a8"
             ],
             [
              0.3333333333333333,
              "#9c179e"
             ],
             [
              0.4444444444444444,
              "#bd3786"
             ],
             [
              0.5555555555555556,
              "#d8576b"
             ],
             [
              0.6666666666666666,
              "#ed7953"
             ],
             [
              0.7777777777777778,
              "#fb9f3a"
             ],
             [
              0.8888888888888888,
              "#fdca26"
             ],
             [
              1,
              "#f0f921"
             ]
            ],
            "type": "heatmap"
           }
          ],
          "histogram": [
           {
            "marker": {
             "pattern": {
              "fillmode": "overlay",
              "size": 10,
              "solidity": 0.2
             }
            },
            "type": "histogram"
           }
          ],
          "histogram2d": [
           {
            "colorbar": {
             "outlinewidth": 0,
             "ticks": ""
            },
            "colorscale": [
             [
              0,
              "#0d0887"
             ],
             [
              0.1111111111111111,
              "#46039f"
             ],
             [
              0.2222222222222222,
              "#7201a8"
             ],
             [
              0.3333333333333333,
              "#9c179e"
             ],
             [
              0.4444444444444444,
              "#bd3786"
             ],
             [
              0.5555555555555556,
              "#d8576b"
             ],
             [
              0.6666666666666666,
              "#ed7953"
             ],
             [
              0.7777777777777778,
              "#fb9f3a"
             ],
             [
              0.8888888888888888,
              "#fdca26"
             ],
             [
              1,
              "#f0f921"
             ]
            ],
            "type": "histogram2d"
           }
          ],
          "histogram2dcontour": [
           {
            "colorbar": {
             "outlinewidth": 0,
             "ticks": ""
            },
            "colorscale": [
             [
              0,
              "#0d0887"
             ],
             [
              0.1111111111111111,
              "#46039f"
             ],
             [
              0.2222222222222222,
              "#7201a8"
             ],
             [
              0.3333333333333333,
              "#9c179e"
             ],
             [
              0.4444444444444444,
              "#bd3786"
             ],
             [
              0.5555555555555556,
              "#d8576b"
             ],
             [
              0.6666666666666666,
              "#ed7953"
             ],
             [
              0.7777777777777778,
              "#fb9f3a"
             ],
             [
              0.8888888888888888,
              "#fdca26"
             ],
             [
              1,
              "#f0f921"
             ]
            ],
            "type": "histogram2dcontour"
           }
          ],
          "mesh3d": [
           {
            "colorbar": {
             "outlinewidth": 0,
             "ticks": ""
            },
            "type": "mesh3d"
           }
          ],
          "parcoords": [
           {
            "line": {
             "colorbar": {
              "outlinewidth": 0,
              "ticks": ""
             }
            },
            "type": "parcoords"
           }
          ],
          "pie": [
           {
            "automargin": true,
            "type": "pie"
           }
          ],
          "scatter": [
           {
            "fillpattern": {
             "fillmode": "overlay",
             "size": 10,
             "solidity": 0.2
            },
            "type": "scatter"
           }
          ],
          "scatter3d": [
           {
            "line": {
             "colorbar": {
              "outlinewidth": 0,
              "ticks": ""
             }
            },
            "marker": {
             "colorbar": {
              "outlinewidth": 0,
              "ticks": ""
             }
            },
            "type": "scatter3d"
           }
          ],
          "scattercarpet": [
           {
            "marker": {
             "colorbar": {
              "outlinewidth": 0,
              "ticks": ""
             }
            },
            "type": "scattercarpet"
           }
          ],
          "scattergeo": [
           {
            "marker": {
             "colorbar": {
              "outlinewidth": 0,
              "ticks": ""
             }
            },
            "type": "scattergeo"
           }
          ],
          "scattergl": [
           {
            "marker": {
             "colorbar": {
              "outlinewidth": 0,
              "ticks": ""
             }
            },
            "type": "scattergl"
           }
          ],
          "scattermap": [
           {
            "marker": {
             "colorbar": {
              "outlinewidth": 0,
              "ticks": ""
             }
            },
            "type": "scattermap"
           }
          ],
          "scattermapbox": [
           {
            "marker": {
             "colorbar": {
              "outlinewidth": 0,
              "ticks": ""
             }
            },
            "type": "scattermapbox"
           }
          ],
          "scatterpolar": [
           {
            "marker": {
             "colorbar": {
              "outlinewidth": 0,
              "ticks": ""
             }
            },
            "type": "scatterpolar"
           }
          ],
          "scatterpolargl": [
           {
            "marker": {
             "colorbar": {
              "outlinewidth": 0,
              "ticks": ""
             }
            },
            "type": "scatterpolargl"
           }
          ],
          "scatterternary": [
           {
            "marker": {
             "colorbar": {
              "outlinewidth": 0,
              "ticks": ""
             }
            },
            "type": "scatterternary"
           }
          ],
          "surface": [
           {
            "colorbar": {
             "outlinewidth": 0,
             "ticks": ""
            },
            "colorscale": [
             [
              0,
              "#0d0887"
             ],
             [
              0.1111111111111111,
              "#46039f"
             ],
             [
              0.2222222222222222,
              "#7201a8"
             ],
             [
              0.3333333333333333,
              "#9c179e"
             ],
             [
              0.4444444444444444,
              "#bd3786"
             ],
             [
              0.5555555555555556,
              "#d8576b"
             ],
             [
              0.6666666666666666,
              "#ed7953"
             ],
             [
              0.7777777777777778,
              "#fb9f3a"
             ],
             [
              0.8888888888888888,
              "#fdca26"
             ],
             [
              1,
              "#f0f921"
             ]
            ],
            "type": "surface"
           }
          ],
          "table": [
           {
            "cells": {
             "fill": {
              "color": "#EBF0F8"
             },
             "line": {
              "color": "white"
             }
            },
            "header": {
             "fill": {
              "color": "#C8D4E3"
             },
             "line": {
              "color": "white"
             }
            },
            "type": "table"
           }
          ]
         },
         "layout": {
          "annotationdefaults": {
           "arrowcolor": "#2a3f5f",
           "arrowhead": 0,
           "arrowwidth": 1
          },
          "autotypenumbers": "strict",
          "coloraxis": {
           "colorbar": {
            "outlinewidth": 0,
            "ticks": ""
           }
          },
          "colorscale": {
           "diverging": [
            [
             0,
             "#8e0152"
            ],
            [
             0.1,
             "#c51b7d"
            ],
            [
             0.2,
             "#de77ae"
            ],
            [
             0.3,
             "#f1b6da"
            ],
            [
             0.4,
             "#fde0ef"
            ],
            [
             0.5,
             "#f7f7f7"
            ],
            [
             0.6,
             "#e6f5d0"
            ],
            [
             0.7,
             "#b8e186"
            ],
            [
             0.8,
             "#7fbc41"
            ],
            [
             0.9,
             "#4d9221"
            ],
            [
             1,
             "#276419"
            ]
           ],
           "sequential": [
            [
             0,
             "#0d0887"
            ],
            [
             0.1111111111111111,
             "#46039f"
            ],
            [
             0.2222222222222222,
             "#7201a8"
            ],
            [
             0.3333333333333333,
             "#9c179e"
            ],
            [
             0.4444444444444444,
             "#bd3786"
            ],
            [
             0.5555555555555556,
             "#d8576b"
            ],
            [
             0.6666666666666666,
             "#ed7953"
            ],
            [
             0.7777777777777778,
             "#fb9f3a"
            ],
            [
             0.8888888888888888,
             "#fdca26"
            ],
            [
             1,
             "#f0f921"
            ]
           ],
           "sequentialminus": [
            [
             0,
             "#0d0887"
            ],
            [
             0.1111111111111111,
             "#46039f"
            ],
            [
             0.2222222222222222,
             "#7201a8"
            ],
            [
             0.3333333333333333,
             "#9c179e"
            ],
            [
             0.4444444444444444,
             "#bd3786"
            ],
            [
             0.5555555555555556,
             "#d8576b"
            ],
            [
             0.6666666666666666,
             "#ed7953"
            ],
            [
             0.7777777777777778,
             "#fb9f3a"
            ],
            [
             0.8888888888888888,
             "#fdca26"
            ],
            [
             1,
             "#f0f921"
            ]
           ]
          },
          "colorway": [
           "#636efa",
           "#EF553B",
           "#00cc96",
           "#ab63fa",
           "#FFA15A",
           "#19d3f3",
           "#FF6692",
           "#B6E880",
           "#FF97FF",
           "#FECB52"
          ],
          "font": {
           "color": "#2a3f5f"
          },
          "geo": {
           "bgcolor": "white",
           "lakecolor": "white",
           "landcolor": "#E5ECF6",
           "showlakes": true,
           "showland": true,
           "subunitcolor": "white"
          },
          "hoverlabel": {
           "align": "left"
          },
          "hovermode": "closest",
          "mapbox": {
           "style": "light"
          },
          "paper_bgcolor": "white",
          "plot_bgcolor": "#E5ECF6",
          "polar": {
           "angularaxis": {
            "gridcolor": "white",
            "linecolor": "white",
            "ticks": ""
           },
           "bgcolor": "#E5ECF6",
           "radialaxis": {
            "gridcolor": "white",
            "linecolor": "white",
            "ticks": ""
           }
          },
          "scene": {
           "xaxis": {
            "backgroundcolor": "#E5ECF6",
            "gridcolor": "white",
            "gridwidth": 2,
            "linecolor": "white",
            "showbackground": true,
            "ticks": "",
            "zerolinecolor": "white"
           },
           "yaxis": {
            "backgroundcolor": "#E5ECF6",
            "gridcolor": "white",
            "gridwidth": 2,
            "linecolor": "white",
            "showbackground": true,
            "ticks": "",
            "zerolinecolor": "white"
           },
           "zaxis": {
            "backgroundcolor": "#E5ECF6",
            "gridcolor": "white",
            "gridwidth": 2,
            "linecolor": "white",
            "showbackground": true,
            "ticks": "",
            "zerolinecolor": "white"
           }
          },
          "shapedefaults": {
           "line": {
            "color": "#2a3f5f"
           }
          },
          "ternary": {
           "aaxis": {
            "gridcolor": "white",
            "linecolor": "white",
            "ticks": ""
           },
           "baxis": {
            "gridcolor": "white",
            "linecolor": "white",
            "ticks": ""
           },
           "bgcolor": "#E5ECF6",
           "caxis": {
            "gridcolor": "white",
            "linecolor": "white",
            "ticks": ""
           }
          },
          "title": {
           "x": 0.05
          },
          "xaxis": {
           "automargin": true,
           "gridcolor": "white",
           "linecolor": "white",
           "ticks": "",
           "title": {
            "standoff": 15
           },
           "zerolinecolor": "white",
           "zerolinewidth": 2
          },
          "yaxis": {
           "automargin": true,
           "gridcolor": "white",
           "linecolor": "white",
           "ticks": "",
           "title": {
            "standoff": 15
           },
           "zerolinecolor": "white",
           "zerolinewidth": 2
          }
         }
        },
        "title": {
         "text": "Visualización de Figuras Geométricas"
        },
        "xaxis": {
         "scaleanchor": "y",
         "scaleratio": 1
        },
        "yaxis": {
         "scaleanchor": "x",
         "scaleratio": 1
        }
       }
      }
     },
     "metadata": {},
     "output_type": "display_data"
    }
   ],
   "source": [
    "from dataclasses import dataclass\n",
    "from math import pi, cos, sin, sqrt\n",
    "import plotly.graph_objects as go\n",
    "from typing import List, Tuple\n",
    "\n",
    "@dataclass\n",
    "class Circulo:\n",
    "    radio: float\n",
    "    color: str = \"blue\"\n",
    "    centro: Tuple[float, float] = (0, 0)\n",
    "\n",
    "@dataclass\n",
    "class Rectangulo:\n",
    "    ancho: float\n",
    "    alto: float\n",
    "    color: str = \"red\"\n",
    "    centro: Tuple[float, float] = (0, 0)\n",
    "\n",
    "@dataclass\n",
    "class Triangulo:\n",
    "    base: float\n",
    "    altura: float\n",
    "    color: str = \"green\"\n",
    "    centro: Tuple[float, float] = (0, 0)\n",
    "\n",
    "def generar_puntos(figura):\n",
    "    match figura:\n",
    "        case Circulo(radio=r, color=c, centro=(cx, cy)):\n",
    "            theta = [i * 2 * pi / 100 for i in range(101)]\n",
    "            x = [cx + r * cos(t) for t in theta]\n",
    "            y = [cy + r * sin(t) for t in theta]\n",
    "            return x, y, c\n",
    "            \n",
    "        case Rectangulo(ancho=a, alto=h, color=c, centro=(cx, cy)):\n",
    "            x = [cx - a/2, cx + a/2, cx + a/2, cx - a/2, cx - a/2]\n",
    "            y = [cy - h/2, cy - h/2, cy + h/2, cy + h/2, cy - h/2]\n",
    "            return x, y, c\n",
    "            \n",
    "        case Triangulo(base=b, altura=alt, color=c, centro=(cx, cy)):\n",
    "            x = [cx - b/2, cx, cx + b/2, cx - b/2]\n",
    "            y = [cy - alt/3, cy + 2*alt/3, cy - alt/3, cy - alt/3]\n",
    "            return x, y, c\n",
    "            \n",
    "        case _:\n",
    "            raise ValueError(\"Figura no reconocida\")\n",
    "\n",
    "def visualizar_figuras(figuras: List):\n",
    "    fig = go.Figure()\n",
    "    \n",
    "    for figura in figuras:\n",
    "        match figura:\n",
    "            case Circulo() | Rectangulo() | Triangulo():\n",
    "                x, y, color = generar_puntos(figura)\n",
    "                fig.add_trace(go.Scatter(\n",
    "                    x=x, y=y,\n",
    "                    fill=\"toself\",\n",
    "                    fillcolor=color,\n",
    "                    line=dict(color=\"black\"),\n",
    "                    name=type(figura).__name__,\n",
    "                    opacity=0.6\n",
    "                ))\n",
    "            case _:\n",
    "                print(f\"Figura {figura} no soportada para visualización\")\n",
    "    \n",
    " \n",
    "    fig.update_layout(\n",
    "        title=\"Visualización de Figuras Geométricas\",\n",
    "        xaxis=dict(scaleanchor=\"y\", scaleratio=1),\n",
    "        yaxis=dict(scaleanchor=\"x\", scaleratio=1),\n",
    "        showlegend=True\n",
    "    )\n",
    "    \n",
    "    fig.show()\n",
    "\n",
    "\n",
    "figuras = [\n",
    "    Circulo(2, \"#1f77b4\", (1, 1)),         # azul\n",
    "    Rectangulo(3, 2, \"#ff7f0e\", (-2, 0)),  # naranja\n",
    "    Triangulo(4, 3, \"#2ca02c\", (2, -1)),   # verde\n",
    "    Circulo(1.5, \"#d62728\", (-1, -2))      # rojo\n",
    "]\n",
    "\n",
    "visualizar_figuras(figuras)"
   ]
  },
  {
   "cell_type": "markdown",
   "id": "9b34e07e",
   "metadata": {},
   "source": [
    "### 10 Características Avanzadas de Python\n",
    "\n",
    "\n",
    "#### 1. Decoradores (@decorator)\n",
    "\n",
    "```python\n",
    "@timer\n",
    "def funcion_lenta():\n",
    "    # código\n",
    "```\n",
    "\n",
    "#### 2. Gestores de Contexto (with)\n",
    "\n",
    "```python\n",
    "with open('archivo.txt') as f:\n",
    "    contenido = f.read()\n",
    "```\n",
    "\n",
    "#### 3. Generadores (yield)\n",
    "\n",
    "```python\n",
    "def fibonacci():\n",
    "    a, b = 0, 1\n",
    "    while True:\n",
    "        yield a\n",
    "        a, b = b, a + b\n",
    "```\n",
    "\n",
    "#### 4. Desempaquetado Avanzado\n",
    "\n",
    "```python\n",
    "a, *resto, z = [1, 2, 3, 4, 5]\n",
    "\n",
    "```\n",
    "\n",
    "#### 5. Expresiones de Asignación (:=)\n",
    "\n",
    "```python\n",
    "if (n := len(data)) > 10:\n",
    "    print(f\"Demasiados items ({n})\")\n",
    "```\n",
    "\n",
    "\n",
    "####  6. Funciones Lambda\n",
    "\n",
    "```python\n",
    "cuadrado = lambda x: x**2\n",
    "sorted(users, key=lambda u: u.edad)\n",
    "```\n",
    "\n",
    "#### 7. Type Hints\n",
    "\n",
    "```python\n",
    "def saludar(nombre: str) -> str:\n",
    "    return f\"Hola {nombre}\"\n",
    "```\n",
    "\n",
    "#### 8. Dataclasses\n",
    "\n",
    "```python\n",
    "@dataclass\n",
    "class Punto:\n",
    "    x: float\n",
    "    y: float\n",
    "```\n",
    "\n",
    "#### 9. Operadores de Merging (|) para Diccionarios\n",
    "\n",
    "```python\n",
    "d1 = {'a': 1}\n",
    "d2 = {'b': 2}\n",
    "combinado = d1 | d2  # {'a': 1, 'b': 2}\n",
    "```\n",
    "\n",
    "#### 10. F-strings Avanzadas\n",
    "\n",
    "```python\n",
    "valor = 123.456\n",
    "print(f\"{valor:.2f}\")  # \"123.46\"\n",
    "print(f\"{valor=}\")     # \"valor=123.456\"\n",
    "```\n",
    "\n",
    "#### Bonus: Match-Case Estructural (el propio Pattern Matching)\n",
    "\n",
    "```python\n",
    "match data:\n",
    "    case [x, y] if x == y:\n",
    "        print(\"Diagonal\")\n",
    "    case str() as s:\n",
    "        print(f\"String: {s}\")\n",
    "```\n",
    "\n",
    "####\n",
    "\n",
    "```python\n",
    "\n",
    "```\n",
    "\n",
    "####\n",
    "\n",
    "```python\n",
    "\n",
    "```\n",
    "\n",
    "####\n",
    "\n",
    "```python\n",
    "\n",
    "```\n",
    "\n",
    "####\n",
    "\n",
    "```python\n",
    "\n",
    "```\n",
    "\n",
    "####\n",
    "\n",
    "```python\n",
    "\n",
    "```\n"
   ]
  },
  {
   "cell_type": "code",
   "execution_count": 47,
   "id": "504c8f2b",
   "metadata": {},
   "outputs": [
    {
     "name": "stdout",
     "output_type": "stream",
     "text": [
      "Click en (10, 20)\n",
      "Tecla presionada: Enter\n",
      "Evento no manejado\n"
     ]
    }
   ],
   "source": [
    "from enum import Enum, auto\n",
    "from functools import wraps\n",
    "from typing import Callable, Any\n",
    "\n",
    "class TipoEvento(Enum):\n",
    "    CLICK = auto()\n",
    "    TECLA = auto()\n",
    "    MOVIMIENTO = auto()\n",
    "\n",
    "@dataclass\n",
    "class Evento:\n",
    "    tipo: TipoEvento\n",
    "    datos: dict\n",
    "\n",
    "def manejar_evento(tipo: TipoEvento):\n",
    "    \"\"\"Decorador factory para manejar tipos específicos de eventos.\"\"\"\n",
    "    def decorador(func: Callable[[Any, dict], Any]) -> Callable[[Any, Evento], Any]:\n",
    "        @wraps(func)\n",
    "        def wrapper(self, evento: Evento) -> Any:\n",
    "            match evento:\n",
    "                case Evento(tipo=t, datos=d) if t == tipo:\n",
    "                    return func(self, d)\n",
    "                case _:\n",
    "                    return None\n",
    "        return wrapper\n",
    "    return decorador\n",
    "\n",
    "class ProcesadorEventos:\n",
    "    @manejar_evento(TipoEvento.CLICK)\n",
    "    def manejar_click(self, datos: dict) -> str:\n",
    "        return f\"Click en ({datos['x']}, {datos['y']})\"\n",
    "\n",
    "    @manejar_evento(TipoEvento.TECLA)\n",
    "    def manejar_tecla(self, datos: dict) -> str:\n",
    "        return f\"Tecla presionada: {datos['tecla']}\"\n",
    "\n",
    "    def procesar(self, evento: Evento) -> Any:\n",
    "        \"\"\"Procesa un evento usando todos los manejadores registrados.\"\"\"\n",
    "        for name in dir(self):\n",
    "            attr = getattr(self, name)\n",
    "            if callable(attr) and hasattr(attr, '__wrapped__'):\n",
    "                if result := attr(evento):\n",
    "                    return result\n",
    "        return \"Evento no manejado\"\n",
    "\n",
    "# Uso\n",
    "procesador = ProcesadorEventos()\n",
    "eventos = [\n",
    "    Evento(TipoEvento.CLICK, {'x': 10, 'y': 20}),\n",
    "    Evento(TipoEvento.TECLA, {'tecla': 'Enter'}),\n",
    "    Evento(TipoEvento.MOVIMIENTO, {'dx': 5, 'dy': 3})\n",
    "]\n",
    "\n",
    "for evento in eventos:\n",
    "    print(procesador.procesar(evento))"
   ]
  },
  {
   "cell_type": "markdown",
   "id": "a155363b",
   "metadata": {},
   "source": [
    "\n",
    "```python\n",
    "from enum import Enum, auto\n",
    "from functools import wraps\n",
    "from typing import Callable, Any\n",
    "```\n",
    "ß\n",
    "```python\n",
    "class TipoEvento(Enum):\n",
    "    CLICK = auto()\n",
    "    TECLA = auto()\n",
    "    MOVIMIENTO = auto()\n",
    "```\n",
    "\n",
    "1. **Importaciones**:  \n",
    "   - `Enum` y `auto` permiten definir enumeraciones.\n",
    "   - `wraps` es útil para decoradores.\n",
    "   - `Callable` y `Any` son para anotaciones de tipos.\n",
    "\n",
    "2. **TipoEvento**:  \n",
    "   - Es una enumeración que define tres tipos de eventos: CLICK, TECLA y MOVIMIENTO.\n",
    "\n",
    "```python\n",
    "@dataclass\n",
    "class Evento:\n",
    "    tipo: TipoEvento\n",
    "    datos: dict\n",
    "```\n",
    "\n",
    "3. **Evento**:  \n",
    "   - Es una clase de datos que representa un evento, con un tipo (`TipoEvento`) y un diccionario de datos asociados.\n",
    "\n",
    "```python\n",
    "def manejar_evento(tipo: TipoEvento):\n",
    "    \"\"\"Decorador factory para manejar tipos específicos de eventos.\"\"\"\n",
    "    def decorador(func: Callable[[Any, dict], Any]) -> Callable[[Any, Evento], Any]:\n",
    "        @wraps(func)\n",
    "        def wrapper(self, evento: Evento) -> Any:\n",
    "            match evento:\n",
    "                case Evento(tipo=t, datos=d) if t == tipo:\n",
    "                    return func(self, d)\n",
    "                case _:\n",
    "                    return None\n",
    "        return wrapper\n",
    "    return decorador\n",
    "```\n",
    "\n",
    "4. **manejar_evento**:  \n",
    "   - Es una función que devuelve un decorador.\n",
    "   - El decorador envuelve una función para que solo se ejecute si el evento recibido es del tipo indicado.\n",
    "   - Usa pattern matching (`match`) para comprobar el tipo de evento.\n",
    "   - Si coincide, llama a la función original pasando los datos del evento.\n",
    "\n",
    "```python\n",
    "class ProcesadorEventos:\n",
    "    @manejar_evento(TipoEvento.CLICK)\n",
    "    def manejar_click(self, datos: dict) -> str:\n",
    "        return f\"Click en ({datos['x']}, {datos['y']})\"\n",
    "\n",
    "    @manejar_evento(TipoEvento.TECLA)\n",
    "    def manejar_tecla(self, datos: dict) -> str:\n",
    "        return f\"Tecla presionada: {datos['tecla']}\"\n",
    "\n",
    "    def procesar(self, evento: Evento) -> Any:\n",
    "        \"\"\"Procesa un evento usando todos los manejadores registrados.\"\"\"\n",
    "        for name in dir(self):\n",
    "            attr = getattr(self, name)\n",
    "            if callable(attr) and hasattr(attr, '__wrapped__'):\n",
    "                if result := attr(evento):\n",
    "                    return result\n",
    "        return \"Evento no manejado\"\n",
    "```\n",
    "\n",
    "5. **ProcesadorEventos**:  \n",
    "   - Clase que contiene métodos para manejar distintos tipos de eventos.\n",
    "   - `manejar_click` y `manejar_tecla` están decorados para responder solo a su tipo de evento.\n",
    "   - `procesar`: Recorre todos los métodos de la clase, busca los que son manejadores de eventos y los llama con el evento. Si alguno responde, retorna el resultado; si no, retorna \"Evento no manejado\".\n",
    "\n",
    "```python\n",
    "# Uso\n",
    "procesador = ProcesadorEventos()\n",
    "eventos = [\n",
    "    Evento(TipoEvento.CLICK, {'x': 10, 'y': 20}),\n",
    "    Evento(TipoEvento.TECLA, {'tecla': 'Enter'}),\n",
    "    Evento(TipoEvento.MOVIMIENTO, {'dx': 5, 'dy': 3})\n",
    "]\n",
    "\n",
    "for evento in eventos:\n",
    "    print(procesador.procesar(evento))\n",
    "```\n",
    "\n",
    "6. **Uso**:  \n",
    "   - Se crea una instancia de `ProcesadorEventos`.\n",
    "   - Se crean tres eventos de diferentes tipos.\n",
    "   - Se procesan los eventos y se imprime el resultado de cada uno.\n",
    "\n",
    "**¿Qué imprime?**\n",
    "- Para el CLICK: `\"Click en (10, 20)\"`\n",
    "- Para la TECLA: `\"Tecla presionada: Enter\"`\n",
    "- Para MOVIMIENTO: `\"Evento no manejado\"` (porque no hay manejador para ese tipo).\n",
    "\n",
    "**Resumen:**  \n",
    "El código implementa un sistema flexible para manejar eventos usando decoradores y pattern matching, permitiendo que cada método responda solo a un tipo de evento específico.from enum \n",
    "\n",
    "import Enum, auto\n",
    "from functools import wraps\n",
    "from typing import Callable, Any\n",
    "\n",
    "```python\n",
    "class TipoEvento(Enum):\n",
    "    CLICK = auto()\n",
    "    TECLA = auto()\n",
    "    MOVIMIENTO = auto()\n",
    "```\n",
    "\n",
    "1. **Importaciones**:  \n",
    "   - `Enum` y `auto` permiten definir enumeraciones.\n",
    "   - `wraps` es útil para decoradores.\n",
    "   - `Callable` y `Any` son para anotaciones de tipos.\n",
    "\n",
    "2. **TipoEvento**:  \n",
    "   - Es una enumeración que define tres tipos de eventos: CLICK, TECLA y MOVIMIENTO.\n",
    "\n",
    "```python\n",
    "@dataclass\n",
    "class Evento:\n",
    "    tipo: TipoEvento\n",
    "    datos: dict\n",
    "```\n",
    "\n",
    "3. **Evento**:  \n",
    "   - Es una clase de datos que representa un evento, con un tipo (`TipoEvento`) y un diccionario de datos asociados.\n",
    "\n",
    "```python\n",
    "def manejar_evento(tipo: TipoEvento):\n",
    "    \"\"\"Decorador factory para manejar tipos específicos de eventos.\"\"\"\n",
    "    def decorador(func: Callable[[Any, dict], Any]) -> Callable[[Any, Evento], Any]:\n",
    "        @wraps(func)\n",
    "        def wrapper(self, evento: Evento) -> Any:\n",
    "            match evento:\n",
    "                case Evento(tipo=t, datos=d) if t == tipo:\n",
    "                    return func(self, d)\n",
    "                case _:\n",
    "                    return None\n",
    "        return wrapper\n",
    "    return decorador\n",
    "```\n",
    "\n",
    "4. **manejar_evento**:  \n",
    "   - Es una función que devuelve un decorador.\n",
    "   - El decorador envuelve una función para que solo se ejecute si el evento recibido es del tipo indicado.\n",
    "   - Usa pattern matching (`match`) para comprobar el tipo de evento.\n",
    "   - Si coincide, llama a la función original pasando los datos del evento.\n",
    "\n",
    "```python\n",
    "class ProcesadorEventos:\n",
    "    @manejar_evento(TipoEvento.CLICK)\n",
    "    def manejar_click(self, datos: dict) -> str:\n",
    "        return f\"Click en ({datos['x']}, {datos['y']})\"\n",
    "\n",
    "    @manejar_evento(TipoEvento.TECLA)\n",
    "    def manejar_tecla(self, datos: dict) -> str:\n",
    "        return f\"Tecla presionada: {datos['tecla']}\"\n",
    "\n",
    "    def procesar(self, evento: Evento) -> Any:\n",
    "        \"\"\"Procesa un evento usando todos los manejadores registrados.\"\"\"\n",
    "        for name in dir(self):\n",
    "            attr = getattr(self, name)\n",
    "            if callable(attr) and hasattr(attr, '__wrapped__'):\n",
    "                if result := attr(evento):\n",
    "                    return result\n",
    "        return \"Evento no manejado\"\n",
    "```\n",
    "\n",
    "5. **ProcesadorEventos**:  \n",
    "   - Clase que contiene métodos para manejar distintos tipos de eventos.\n",
    "   - `manejar_click` y `manejar_tecla` están decorados para responder solo a su tipo de evento.\n",
    "   - `procesar`: Recorre todos los métodos de la clase, busca los que son manejadores de eventos y los llama con el evento. Si alguno responde, retorna el resultado; si no, retorna \"Evento no manejado\".\n",
    "\n",
    "```python\n",
    "# Uso\n",
    "procesador = ProcesadorEventos()\n",
    "eventos = [\n",
    "    Evento(TipoEvento.CLICK, {'x': 10, 'y': 20}),\n",
    "    Evento(TipoEvento.TECLA, {'tecla': 'Enter'}),\n",
    "    Evento(TipoEvento.MOVIMIENTO, {'dx': 5, 'dy': 3})\n",
    "]\n",
    "\n",
    "for evento in eventos:\n",
    "    print(procesador.procesar(evento))\n",
    "```\n",
    "\n",
    "6. **Uso**:  \n",
    "   - Se crea una instancia de `ProcesadorEventos`.\n",
    "   - Se crean tres eventos de diferentes tipos.\n",
    "   - Se procesan los eventos y se imprime el resultado de cada uno.\n",
    "\n",
    "**¿Qué imprime?**\n",
    "- Para el CLICK: `\"Click en (10, 20)\"`\n",
    "- Para la TECLA: `\"Tecla presionada: Enter\"`\n",
    "- Para MOVIMIENTO: `\"Evento no manejado\"` (porque no hay manejador para ese tipo).\n",
    "\n",
    "**Resumen:**  \n",
    "El código implementa un sistema flexible para manejar eventos usando decoradores y pattern matching, permitiendo que cada método responda solo a un tipo de evento específico."
   ]
  },
  {
   "cell_type": "code",
   "execution_count": 67,
   "id": "9b65b65b",
   "metadata": {},
   "outputs": [
    {
     "name": "stdout",
     "output_type": "stream",
     "text": [
      "Is '12321' a palindrome? True\n"
     ]
    },
    {
     "data": {
      "text/plain": [
       "True"
      ]
     },
     "execution_count": 67,
     "metadata": {},
     "output_type": "execute_result"
    }
   ],
   "source": [
    "num = '12321'\n",
    "reversed_num = num[::-1]\n",
    "is_palindrome = reversed_num == num\n",
    "print(f\"Is '{num}' a palindrome? {is_palindrome}\")\n",
    "\n",
    "reversed_num = ''.join(reversed(num))\n",
    "reversed_num == num"
   ]
  }
 ],
 "metadata": {
  "kernelspec": {
   "display_name": "reactor",
   "language": "python",
   "name": "python3"
  },
  "language_info": {
   "codemirror_mode": {
    "name": "ipython",
    "version": 3
   },
   "file_extension": ".py",
   "mimetype": "text/x-python",
   "name": "python",
   "nbconvert_exporter": "python",
   "pygments_lexer": "ipython3",
   "version": "3.10.16"
  }
 },
 "nbformat": 4,
 "nbformat_minor": 5
}
